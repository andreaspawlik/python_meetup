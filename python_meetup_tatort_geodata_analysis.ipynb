{
 "cells": [
  {
   "cell_type": "markdown",
   "metadata": {},
   "source": [
    "# Visualizing Tatort Tweets on a Map \n",
    "\n",
    "\n",
    "@author: Andreas Pawlik (andreas.pawlik@gmail.com), 2016.\n",
    "\n",
    "I don't claim originality on any of this. Much of the code I use is adapted fom various examples and tutorials I have found int the web. If you think I have forgotten any important references just let me know and I'll adapt the notebook.\n",
    "\n",
    "Use the code at your own risk!"
   ]
  },
  {
   "cell_type": "markdown",
   "metadata": {},
   "source": [
    "## What's that all about\n",
    "\n",
    "In this notebook we will locate Tatort tweets on a map. Tatort is a regular crime show running every Sunday 8.15 pm on channel ARD. It's stories not of a single police team but of several, scattered in cities across Germany, and also in Austria and Switzerland. It's very popular in Germany, reaching an audience of, on average, up to 13 million people, a substantial fraction of the overall population. People even meet in bars and restaurants for public viewing."
   ]
  },
  {
   "cell_type": "markdown",
   "metadata": {},
   "source": [
    "Many of the Tatort enthusiasts also comment on the show on twitter while watching, and many of the tweets are quite fun to read. I got curious if I could render the tweets on a map, and perhaps spot some correlation of tweets with the city featured in the current show. \n",
    "\n",
    "While I was looking for a library that let's me quickly make a few nice-looking maps, I came across Folium, a Python libray building on Leaflet.js, a well-known and powerful Javascript library for visualization of geodata. The examples in the Folium documentation got my curious enough to give it a try. \n",
    "\n",
    "This notebook gives a short overview of my application of Folium to the visualization of Tatort tweets. If you got curious I would be happy to see you following you along. Besides getting to know Folium we'll also learn how to query Twitter, how to scrape Wikipedia tables, and how to figure out if a point is inside a polygon."
   ]
  },
  {
   "cell_type": "markdown",
   "metadata": {},
   "source": [
    "## Getting started\n",
    "\n",
    "First we'll load the required library dependencies, including Twython for reading the Twitter stream, Pandas for storing and manipulating the tweeted data in a table, and Folium for visualization on a map."
   ]
  },
  {
   "cell_type": "code",
   "execution_count": 31,
   "metadata": {
    "collapsed": false
   },
   "outputs": [],
   "source": [
    "%matplotlib inline\n",
    "from matplotlib import pylab as plt\n",
    "import seaborn as sns\n",
    "sns.set_context('talk')\n",
    "sns.set_style('whitegrid')\n",
    "import numpy as np\n",
    "import pandas as pd\n",
    "from pygeocoder import Geocoder\n",
    "import folium\n",
    "from folium import plugins\n",
    "import json\n",
    "from pprint import pprint\n",
    "import datetime\n",
    "from dateutil import tz\n",
    "from functools import partial\n",
    "import urllib\n",
    "import os\n",
    "from twython import Twython, TwythonStreamer"
   ]
  },
  {
   "cell_type": "markdown",
   "metadata": {},
   "source": [
    "## Collecting the tweets"
   ]
  },
  {
   "cell_type": "markdown",
   "metadata": {},
   "source": [
    "We'll use Twython to collect tweets with hashtag Tatort from Twitter. Twython provides an easy to use wrapper around the Twitter API that lets us focus on our main objective, extracting geodata of Tatort tweets. \n",
    "\n",
    "There are two main routes to getting the data: We can mine Twitter for past tweets or we can listen live to Twitter's stream. Here we'll employ Twython to stream to the tweets live. Towards this end we'll adopted a little class that writes these tweets to a file for later analysis, copied from this helpful blog: http://www.jackboot7.com/visualizing-tweets.html"
   ]
  },
  {
   "cell_type": "code",
   "execution_count": 3,
   "metadata": {
    "collapsed": true
   },
   "outputs": [],
   "source": [
    "## you'll get this by registring at twitter, see here: http://twython.readthedocs.org/en/latest/usage/starting_out.html\n",
    "APP_KEY = ''\n",
    "APP_SECRET = ''\n",
    "OAUTH_TOKEN = ''\n",
    "OAUTH_TOKEN_SECRET = ''\n",
    "\n",
    "\n",
    "class MyStreamer(TwythonStreamer):\n",
    "    # adopted from http://www.jackboot7.com/visualizing-tweets.html\n",
    "\n",
    "    def on_success(self, data):\n",
    "\n",
    "        with open('tweets.txt', 'a') as f:\n",
    "            f.write(json.dumps(data))\n",
    "            f.write('\\n')\n",
    "\n",
    "    def on_error(self, status_code, data):\n",
    "        with open('errors.txt', 'a') as f:\n",
    "            f.write('error: {0}: {1}'.format(status_code, data))\n",
    "\n",
    "\n",
    "\n",
    "#stream = MyStreamer(APP_KEY, APP_SECRET, OAUTH_TOKEN, OAUTH_TOKEN_SECRET)\n",
    "#stream.statuses.filter(track = 'tatort')\n",
    "\n",
    "\n",
    "## alternatively, we can search for past tweets\n",
    "## note that we only get around 200 tweets per search, see here, for example: \n",
    "## http://stackoverflow.com/questions/19320197/twython-search-api-with-next-results/21644346#21644346\n",
    "#twitter = Twython(app_key=APP_KEY, \n",
    "#            app_secret=APP_SECRET, \n",
    "#            oauth_token=OAUTH_TOKEN, \n",
    "#            oauth_token_secret=OAUTH_TOKEN_SECRET)\n",
    "\n",
    "#search_results = twitter.search(q=\"#tatort\", count=13000)\n",
    "#pprint(search_results)\n"
   ]
  },
  {
   "cell_type": "markdown",
   "metadata": {},
   "source": [
    "Now that we are finished collecting the tweets, lets load them in the notebook:"
   ]
  },
  {
   "cell_type": "code",
   "execution_count": 32,
   "metadata": {
    "collapsed": false
   },
   "outputs": [
    {
     "name": "stdout",
     "output_type": "stream",
     "text": [
      "Total number of tweets: 13442\n"
     ]
    }
   ],
   "source": [
    "with open('tweets.txt') as f:\n",
    "    d = f.readlines()\n",
    "    \n",
    "tweets = []\n",
    "for line in d:\n",
    "    tweet = json.loads(line)\n",
    "    tweets.append(tweet)\n",
    "\n",
    "print 'Total number of tweets:', len(tweets)"
   ]
  },
  {
   "cell_type": "markdown",
   "metadata": {},
   "source": [
    "The variable tweets is now a list of tweets. Each tweet is a record in JSON format, as explained here: https://dev.twitter.com/overview/api/tweets, converted to Python dictionary. The top-level keys of that dict look like this (for a good visualization see http://mike.teczno.com/notes/streaming-data-from-twitter.html):"
   ]
  },
  {
   "cell_type": "code",
   "execution_count": 33,
   "metadata": {
    "collapsed": false
   },
   "outputs": [
    {
     "data": {
      "text/plain": [
       "[u'contributors',\n",
       " u'truncated',\n",
       " u'text',\n",
       " u'is_quote_status',\n",
       " u'in_reply_to_status_id',\n",
       " u'id',\n",
       " u'favorite_count',\n",
       " u'source',\n",
       " u'retweeted',\n",
       " u'coordinates',\n",
       " u'timestamp_ms',\n",
       " u'entities',\n",
       " u'in_reply_to_screen_name',\n",
       " u'in_reply_to_user_id',\n",
       " u'retweet_count',\n",
       " u'id_str',\n",
       " u'favorited',\n",
       " u'user',\n",
       " u'geo',\n",
       " u'in_reply_to_user_id_str',\n",
       " u'possibly_sensitive',\n",
       " u'lang',\n",
       " u'created_at',\n",
       " u'filter_level',\n",
       " u'in_reply_to_status_id_str',\n",
       " u'place']"
      ]
     },
     "execution_count": 33,
     "metadata": {},
     "output_type": "execute_result"
    }
   ],
   "source": [
    "tweet = tweets[0] ## get first tweet\n",
    "tweet.keys()"
   ]
  },
  {
   "cell_type": "markdown",
   "metadata": {},
   "source": [
    "The geodata of the tweet can be found in a number of fields:\n",
    "    * tweet['coordinates']: location in geojson format as reported by the user of client app\n",
    "    * tweet['user']['location']: user-defined name of location (can be nonsense)\n",
    "    * tweet['place']: the place the tweet is associated with (the tweet does not need to orinate from that place)\n",
    "    \n",
    "Not all fields need to be populated, so lets check if how many of our tweets have geoinformation inside:"
   ]
  },
  {
   "cell_type": "code",
   "execution_count": 34,
   "metadata": {
    "collapsed": false
   },
   "outputs": [
    {
     "name": "stdout",
     "output_type": "stream",
     "text": [
      "Number of tweets with coordinates:  23\n",
      "Number of tweets with place:  708\n",
      "Number of tweets with user location:  9322\n"
     ]
    }
   ],
   "source": [
    "count_l = 0\n",
    "count_c = 0\n",
    "count_p = 0\n",
    "for t in tweets:\n",
    "    try:\n",
    "        \n",
    "        if t['coordinates'] != None:\n",
    "            count_c += 1\n",
    "        if t['place'] != None:\n",
    "            count_p += 1\n",
    "        if t['user']['location'] != None:\n",
    "            count_l += 1\n",
    "\n",
    "    except:\n",
    "        pass\n",
    "    \n",
    "print 'Number of tweets with coordinates: ', count_c\n",
    "print 'Number of tweets with place: ', count_p\n",
    "print 'Number of tweets with user location: ', count_l"
   ]
  },
  {
   "cell_type": "markdown",
   "metadata": {},
   "source": [
    "A large fraction (but not all) of the tweets have geoinformation. Most of that is in the field user location. For simplicity, let's focus on that."
   ]
  },
  {
   "cell_type": "markdown",
   "metadata": {},
   "source": [
    "For the further analysis it is convenient to load the tweets in a pandas dataframe"
   ]
  },
  {
   "cell_type": "code",
   "execution_count": 35,
   "metadata": {
    "collapsed": false
   },
   "outputs": [
    {
     "data": {
      "text/html": [
       "<div>\n",
       "<table border=\"1\" class=\"dataframe\">\n",
       "  <thead>\n",
       "    <tr style=\"text-align: right;\">\n",
       "      <th></th>\n",
       "      <th>tweets</th>\n",
       "    </tr>\n",
       "  </thead>\n",
       "  <tbody>\n",
       "    <tr>\n",
       "      <th>0</th>\n",
       "      <td>{u'contributors': None, u'truncated': False, u...</td>\n",
       "    </tr>\n",
       "    <tr>\n",
       "      <th>1</th>\n",
       "      <td>{u'contributors': None, u'truncated': False, u...</td>\n",
       "    </tr>\n",
       "    <tr>\n",
       "      <th>2</th>\n",
       "      <td>{u'contributors': None, u'truncated': False, u...</td>\n",
       "    </tr>\n",
       "    <tr>\n",
       "      <th>3</th>\n",
       "      <td>{u'contributors': None, u'truncated': False, u...</td>\n",
       "    </tr>\n",
       "    <tr>\n",
       "      <th>4</th>\n",
       "      <td>{u'contributors': None, u'truncated': False, u...</td>\n",
       "    </tr>\n",
       "  </tbody>\n",
       "</table>\n",
       "</div>"
      ],
      "text/plain": [
       "                                              tweets\n",
       "0  {u'contributors': None, u'truncated': False, u...\n",
       "1  {u'contributors': None, u'truncated': False, u...\n",
       "2  {u'contributors': None, u'truncated': False, u...\n",
       "3  {u'contributors': None, u'truncated': False, u...\n",
       "4  {u'contributors': None, u'truncated': False, u..."
      ]
     },
     "execution_count": 35,
     "metadata": {},
     "output_type": "execute_result"
    }
   ],
   "source": [
    "df = pd.DataFrame.from_records({'tweets': tweets})\n",
    "df.head()"
   ]
  },
  {
   "cell_type": "markdown",
   "metadata": {},
   "source": [
    "Let's extract a few fields and expand the dataframe to simplify the analysis"
   ]
  },
  {
   "cell_type": "code",
   "execution_count": 37,
   "metadata": {
    "collapsed": false
   },
   "outputs": [],
   "source": [
    "def my_func(field, row): \n",
    "    try:\n",
    "        return row[field]\n",
    "    except:\n",
    "        return None\n",
    " \n",
    "fields = ['created_at', 'user']\n",
    "\n",
    "for field in fields:\n",
    "    _func = partial(my_func, field) ## we'll use the partial function to pass additional parameters along\n",
    "    df[field] = df['tweets'].apply(_func)\n",
    "\n",
    "    field = 'location'\n",
    "df[field] = df['user'].apply(partial(my_func, field))\n",
    "\n",
    "\n",
    "#def my_loc(row):\n",
    "#    try:\n",
    "#        loc = row['user']['location']\n",
    "#    \n",
    "#        if loc == None:\n",
    "#            if row['place'] != None:\n",
    "#                loc = row['place']['name']\n",
    "#        \n",
    "#        return loc\n",
    "#    except:\n",
    "#        return None\n",
    "\n",
    "#df['location'] = df['tweets'].apply(my_loc)\n",
    "\n",
    "#df.head()"
   ]
  },
  {
   "cell_type": "markdown",
   "metadata": {},
   "source": [
    "## Let's have a look at the data"
   ]
  },
  {
   "cell_type": "code",
   "execution_count": 38,
   "metadata": {
    "collapsed": false
   },
   "outputs": [
    {
     "name": "stdout",
     "output_type": "stream",
     "text": [
      "Total number of tweets:  13442\n",
      "Total number of tweets with locations:  9322\n",
      "Number of unique locations:  1721\n"
     ]
    }
   ],
   "source": [
    "print 'Total number of tweets: ', df.shape[0]\n",
    "df.dropna(inplace = True)\n",
    "print 'Total number of tweets with locations: ', len(df.location)\n",
    "print 'Number of unique locations: ', len(df.location.unique())"
   ]
  },
  {
   "cell_type": "markdown",
   "metadata": {},
   "source": [
    "Let's plot the number of tweets. Let's first bring the time information into a more usable format:"
   ]
  },
  {
   "cell_type": "code",
   "execution_count": 40,
   "metadata": {
    "collapsed": false
   },
   "outputs": [
    {
     "data": {
      "text/html": [
       "<div>\n",
       "<table border=\"1\" class=\"dataframe\">\n",
       "  <thead>\n",
       "    <tr style=\"text-align: right;\">\n",
       "      <th></th>\n",
       "      <th>tweets</th>\n",
       "      <th>location</th>\n",
       "    </tr>\n",
       "  </thead>\n",
       "  <tbody>\n",
       "    <tr>\n",
       "      <th>3</th>\n",
       "      <td>{u'contributors': None, u'truncated': False, u...</td>\n",
       "      <td>Stuttgart</td>\n",
       "    </tr>\n",
       "    <tr>\n",
       "      <th>4</th>\n",
       "      <td>{u'contributors': None, u'truncated': False, u...</td>\n",
       "      <td>Nürnberg</td>\n",
       "    </tr>\n",
       "    <tr>\n",
       "      <th>5</th>\n",
       "      <td>{u'contributors': None, u'truncated': False, u...</td>\n",
       "      <td>Auf der Mainseite</td>\n",
       "    </tr>\n",
       "    <tr>\n",
       "      <th>7</th>\n",
       "      <td>{u'contributors': None, u'truncated': False, u...</td>\n",
       "      <td>Germany Münster</td>\n",
       "    </tr>\n",
       "    <tr>\n",
       "      <th>8</th>\n",
       "      <td>{u'contributors': None, u'truncated': False, u...</td>\n",
       "      <td>Zwickau Deutschland</td>\n",
       "    </tr>\n",
       "  </tbody>\n",
       "</table>\n",
       "</div>"
      ],
      "text/plain": [
       "                                              tweets             location\n",
       "3  {u'contributors': None, u'truncated': False, u...            Stuttgart\n",
       "4  {u'contributors': None, u'truncated': False, u...             Nürnberg\n",
       "5  {u'contributors': None, u'truncated': False, u...   Auf der Mainseite \n",
       "7  {u'contributors': None, u'truncated': False, u...      Germany Münster\n",
       "8  {u'contributors': None, u'truncated': False, u...  Zwickau Deutschland"
      ]
     },
     "execution_count": 40,
     "metadata": {},
     "output_type": "execute_result"
    }
   ],
   "source": [
    "def _func(row):\n",
    "    \n",
    "        timestamp = row['created_at']\n",
    "        utc = datetime.datetime.strptime(timestamp, '%a %b %d %H:%M:%S +0000 %Y')\n",
    "        \n",
    "        ## http://stackoverflow.com/questions/4770297/python-convert-utc-datetime-string-to-local-datetime\n",
    "        from_zone = tz.tzutc()\n",
    "        to_zone = tz.tzlocal()\n",
    "\n",
    "        # Tell the datetime object that it's in UTC time zone since \n",
    "        # datetime objects are 'naive' by default\n",
    "        utc = utc.replace(tzinfo=from_zone)\n",
    "\n",
    "        # Convert time zone\n",
    "        local = utc.astimezone(to_zone)\n",
    "        \n",
    "        hour = local.hour\n",
    "        minute = local.minute\n",
    "\n",
    "        return local \n",
    "\n",
    "df['datetime'] = df.apply(_func, axis = 1) \n",
    "df.sort_values('datetime', inplace = True)\n",
    "df[['tweets', 'location']].head()"
   ]
  },
  {
   "cell_type": "code",
   "execution_count": 41,
   "metadata": {
    "collapsed": false
   },
   "outputs": [
    {
     "data": {
      "image/png": "[encoded data removed]",
      "text/plain": [
       "<matplotlib.figure.Figure at 0x119fcc290>"
      ]
     },
     "metadata": {},
     "output_type": "display_data"
    }
   ],
   "source": [
    "grouped = df.groupby(df.datetime)\n",
    "counts = grouped.count()['tweets']\n",
    "\n",
    "fig, axes = plt.subplots(1,2)\n",
    "fig.set_size_inches(16,9)\n",
    "ax, ax2 = axes\n",
    "\n",
    "counts.plot(ax = ax)\n",
    "\n",
    "t_start = datetime.datetime(2016, 3, 28, 20, 15).replace(tzinfo=tz.tzlocal())\n",
    "t_end = datetime.datetime(2016, 3, 28, 21, 45).replace(tzinfo=tz.tzlocal())\n",
    "\n",
    "ax.vlines(t_start, ax.get_ylim()[0], ax.get_ylim()[1], linestyle ='--')\n",
    "ax.vlines(t_end, ax.get_ylim()[0], ax.get_ylim()[1], linestyle ='--')\n",
    "\n",
    "\n",
    "ax.set_ylim([0,20])\n",
    "ax.set_xlim([datetime.datetime(2016, 3, 28, 19, 45).replace(tzinfo=tz.tzlocal()),\n",
    "             datetime.datetime(2016, 3, 28, 22, 15).replace(tzinfo=tz.tzlocal())])\n",
    "\n",
    "ax.set_yscale('linear')\n",
    "ax2.set_title('Numer of tweets with locations collected per minute')\n",
    "ax.set_ylabel('Counts Per Minute')\n",
    "ax.set_xlabel('Time')\n",
    "\n",
    "##second panel\n",
    "counts.cumsum().plot(ax = ax2)\n",
    "\n",
    "ax2.set_title('Total number of tweets with locations collected over time')\n",
    "ax2.set_ylabel('Cumulative Counts')\n",
    "ax2.set_xlim([datetime.datetime(2016, 3, 28, 19, 45).replace(tzinfo=tz.tzlocal()),\n",
    "             datetime.datetime(2016, 3, 28, 22, 15).replace(tzinfo=tz.tzlocal())])\n",
    "ax2.vlines(t_start, ax2.get_ylim()[0], ax2.get_ylim()[1], linestyle ='--')\n",
    "res = ax2.vlines(t_end, ax2.get_ylim()[0], ax2.get_ylim()[1], linestyle ='--')\n"
   ]
  },
  {
   "cell_type": "markdown",
   "metadata": {},
   "source": [
    "There is a period of no tweets near 20:30:00 where my laptop went off.\n",
    "\n",
    "Let's look at the top most frequent locations in our dataset:"
   ]
  },
  {
   "cell_type": "code",
   "execution_count": 44,
   "metadata": {
    "collapsed": false
   },
   "outputs": [
    {
     "data": {
      "text/plain": [
       "<matplotlib.text.Text at 0x128557790>"
      ]
     },
     "execution_count": 44,
     "metadata": {},
     "output_type": "execute_result"
    },
    {
     "data": {
      "image/png": "[encoded data removed]",
      "text/plain": [
       "<matplotlib.figure.Figure at 0x127a20fd0>"
      ]
     },
     "metadata": {},
     "output_type": "display_data"
    }
   ],
   "source": [
    "fig, ax = plt.subplots()\n",
    "top_n = 10\n",
    "df['location'].value_counts().sort_values(ascending=False)[:top_n][::-1].plot(kind = 'barh', ax = ax)\n",
    "ax.set_xlabel('Count')\n"
   ]
  },
  {
   "cell_type": "markdown",
   "metadata": {},
   "source": [
    "Some locations are pretty general ('Germany'), some locations cannot be easily put on a map. However, it's interesting and reassuring to see Freiburg up high, which is the scene of the Tatort under investigation."
   ]
  },
  {
   "cell_type": "markdown",
   "metadata": {},
   "source": [
    "## Locating the tweets"
   ]
  },
  {
   "cell_type": "markdown",
   "metadata": {},
   "source": [
    "To locate the tweets on a map, we need to transform the location names into geographical information such as lattitude and longitude. We will use the Python library Geocoder, a wrapper around the Google API, to accomplish this. \n",
    "\n",
    "The Google API allows us to make at most 2500 requests per day without paying. So either we'll either need to split the requests over several day or somehow reduce our collection of tweets. Here we reduce our collection of tweets by random sampling. "
   ]
  },
  {
   "cell_type": "code",
   "execution_count": 46,
   "metadata": {
    "collapsed": false
   },
   "outputs": [
    {
     "name": "stdout",
     "output_type": "stream",
     "text": [
      "Number of tweets:  1000\n"
     ]
    }
   ],
   "source": [
    "n_sample = 1000  \n",
    "dfs = df.sample(n=np.min([n_sample, df.shape[0]]))\n",
    "dfs.sort_values('datetime', inplace = True)\n",
    "print 'Number of tweets: ', dfs.shape[0]\n",
    "#dfs.head()"
   ]
  },
  {
   "cell_type": "code",
   "execution_count": 47,
   "metadata": {
    "collapsed": false
   },
   "outputs": [
    {
     "name": "stdout",
     "output_type": "stream",
     "text": [
      "Number of tweets for which no longitude/lattitude could be received: 139\n"
     ]
    }
   ],
   "source": [
    "geo_dict = {}\n",
    "failed = []\n",
    "\n",
    "def _func(row):\n",
    "    loc = row['location']\n",
    "    \n",
    "    if geo_dict.has_key(loc):\n",
    "        return geo_dict[loc]\n",
    "    \n",
    "    try:\n",
    "        geo = Geocoder.geocode(loc)\n",
    "        ## there were some problems with directly storing the geo object, so \n",
    "        ## we'll store the json instead\n",
    "        geo_json = json.dumps(geo.current_data) \n",
    "        geo_dict[loc] = geo_json\n",
    "        return geo_json\n",
    "    except:\n",
    "        failed.append(loc)\n",
    "        return None\n",
    "\n",
    "dfs['geo'] = dfs.apply(_func, axis=1)\n",
    "\n",
    "print 'Number of tweets for which no longitude/lattitude could be received:', len(failed)"
   ]
  },
  {
   "cell_type": "code",
   "execution_count": 53,
   "metadata": {
    "collapsed": false
   },
   "outputs": [
    {
     "name": "stdout",
     "output_type": "stream",
     "text": [
      "Number of tweets:  861\n"
     ]
    },
    {
     "data": {
      "text/html": [
       "<div>\n",
       "<table border=\"1\" class=\"dataframe\">\n",
       "  <thead>\n",
       "    <tr style=\"text-align: right;\">\n",
       "      <th></th>\n",
       "      <th>tweets</th>\n",
       "      <th>location</th>\n",
       "      <th>geo</th>\n",
       "    </tr>\n",
       "  </thead>\n",
       "  <tbody>\n",
       "    <tr>\n",
       "      <th>24</th>\n",
       "      <td>{u'contributors': None, u'truncated': False, u...</td>\n",
       "      <td>Frankfurt am Main</td>\n",
       "      <td>{\"geometry\": {\"location_type\": \"APPROXIMATE\", ...</td>\n",
       "    </tr>\n",
       "    <tr>\n",
       "      <th>27</th>\n",
       "      <td>{u'contributors': None, u'truncated': False, u...</td>\n",
       "      <td>Frankfurt am Main</td>\n",
       "      <td>{\"geometry\": {\"location_type\": \"APPROXIMATE\", ...</td>\n",
       "    </tr>\n",
       "    <tr>\n",
       "      <th>65</th>\n",
       "      <td>{u'contributors': None, u'truncated': False, u...</td>\n",
       "      <td>Germany, Augsburg</td>\n",
       "      <td>{\"geometry\": {\"location_type\": \"APPROXIMATE\", ...</td>\n",
       "    </tr>\n",
       "    <tr>\n",
       "      <th>72</th>\n",
       "      <td>{u'contributors': None, u'truncated': False, u...</td>\n",
       "      <td>Mainz</td>\n",
       "      <td>{\"geometry\": {\"location_type\": \"APPROXIMATE\", ...</td>\n",
       "    </tr>\n",
       "    <tr>\n",
       "      <th>89</th>\n",
       "      <td>{u'contributors': None, u'truncated': False, u...</td>\n",
       "      <td>Berlin / Germany</td>\n",
       "      <td>{\"geometry\": {\"location_type\": \"APPROXIMATE\", ...</td>\n",
       "    </tr>\n",
       "  </tbody>\n",
       "</table>\n",
       "</div>"
      ],
      "text/plain": [
       "                                               tweets           location  \\\n",
       "24  {u'contributors': None, u'truncated': False, u...  Frankfurt am Main   \n",
       "27  {u'contributors': None, u'truncated': False, u...  Frankfurt am Main   \n",
       "65  {u'contributors': None, u'truncated': False, u...  Germany, Augsburg   \n",
       "72  {u'contributors': None, u'truncated': False, u...              Mainz   \n",
       "89  {u'contributors': None, u'truncated': False, u...   Berlin / Germany   \n",
       "\n",
       "                                                  geo  \n",
       "24  {\"geometry\": {\"location_type\": \"APPROXIMATE\", ...  \n",
       "27  {\"geometry\": {\"location_type\": \"APPROXIMATE\", ...  \n",
       "65  {\"geometry\": {\"location_type\": \"APPROXIMATE\", ...  \n",
       "72  {\"geometry\": {\"location_type\": \"APPROXIMATE\", ...  \n",
       "89  {\"geometry\": {\"location_type\": \"APPROXIMATE\", ...  "
      ]
     },
     "execution_count": 53,
     "metadata": {},
     "output_type": "execute_result"
    }
   ],
   "source": [
    "dfs.dropna(inplace = True) ## let's drop all tweets for which no longitude/lattitude could be received\n",
    "print 'Number of tweets: ', dfs.shape[0]\n",
    "dfs[['tweets', 'location', 'geo']].head()"
   ]
  },
  {
   "cell_type": "markdown",
   "metadata": {},
   "source": [
    "Some final data wrangling to separate the interesting bits (lattitude and longitude) from the geo object:"
   ]
  },
  {
   "cell_type": "code",
   "execution_count": 55,
   "metadata": {
    "collapsed": false
   },
   "outputs": [],
   "source": [
    "def my_func(field, row):\n",
    "    \n",
    "    try:\n",
    "        d = json.loads(row)\n",
    "        return json.dumps(d[field])        \n",
    "    except:\n",
    "        return np.nan\n",
    "\n",
    "\n",
    "field = 'geometry'\n",
    "dfs[field] = dfs['geo'].apply(partial(my_func, field))\n",
    "\n",
    "field = 'location'\n",
    "dfs['latlon'] = dfs['geometry'].apply(partial(my_func, field))\n",
    "\n",
    "field = 'lat'\n",
    "dfs[field] = dfs['latlon'].apply(partial(my_func, field))\n",
    "\n",
    "field = 'lng'\n",
    "dfs['lon'] = dfs['latlon'].apply(partial(my_func, field))\n",
    "\n",
    "#dfs.head()"
   ]
  },
  {
   "cell_type": "markdown",
   "metadata": {},
   "source": [
    "## Visualizing tweet activity\n",
    "\n",
    "Finally we are in the position to show the location of tweets on a map. Folium's heatmap plugin comes in nicely:"
   ]
  },
  {
   "cell_type": "code",
   "execution_count": 74,
   "metadata": {
    "collapsed": false
   },
   "outputs": [
    {
     "data": {
      "text/html": [
       "<div style=\"width:100%;\"><div style=\"position:relative;width:100%;height:0;padding-bottom:60%;\"><iframe src=\"data:text/html;base64,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\" style=\"position:absolute;width:100%;height:100%;left:0;top:0;\"></iframe></div></div>"
      ],
      "text/plain": [
       "<folium.folium.Map at 0x12b935f50>"
      ]
     },
     "execution_count": 74,
     "metadata": {},
     "output_type": "execute_result"
    }
   ],
   "source": [
    "# Create a heatmap with the data.\n",
    "data = zip([float(x) for x in dfs.lat.tolist()], [float(x) for x in dfs.lon.tolist()])\n",
    "\n",
    "heatmap_map = folium.Map(location=[51, 10.5], zoom_start=6, tiles = 'OpenStreetMap')\n",
    "\n",
    "heatmap_map.add_children(plugins.HeatMap(data, radius = 20))\n"
   ]
  },
  {
   "cell_type": "markdown",
   "metadata": {},
   "source": [
    "Perhaps most surprising is the large number of tweets outside Germany. We know that Tatort is popular also in Austria, Switzerland, where it also features teams, and also in some neighboring countries, such as Netherlands. But what about the locations in America, Africa, Australia? Is it all expats or is something else going on?"
   ]
  },
  {
   "cell_type": "markdown",
   "metadata": {},
   "source": [
    "## Taking a closer look\n",
    "\n",
    "Here we'll verify the locations of the tweets reported by the Google API by comparison with the locations on the map, and the locations attached to the tweets. \n",
    "\n",
    "We'll use Folium's markers to show the Google API location of each tweet. We'll use Folium's popup feature to display the location of the tweets."
   ]
  },
  {
   "cell_type": "code",
   "execution_count": 57,
   "metadata": {
    "collapsed": false,
    "scrolled": false
   },
   "outputs": [
    {
     "name": "stderr",
     "output_type": "stream",
     "text": [
      "/Library/Python/2.7/site-packages/ipykernel/__main__.py:22: FutureWarning: simple_marker is deprecated. Use add_children(Marker) instead\n",
      "/Library/Python/2.7/site-packages/ipykernel/__main__.py:16: FutureWarning: simple_marker is deprecated. Use add_children(Marker) instead\n",
      "/Library/Python/2.7/site-packages/ipykernel/__main__.py:29: FutureWarning: Map.create_map is deprecated. Use Map.save instead\n"
     ]
    },
    {
     "data": {
      "text/html": [
       "\n",
       "        <iframe\n",
       "            width=\"800\"\n",
       "            height=\"800\"\n",
       "            src=\"germany.html\"\n",
       "            frameborder=\"0\"\n",
       "            allowfullscreen\n",
       "        ></iframe>\n",
       "        "
      ],
      "text/plain": [
       "<IPython.lib.display.IFrame at 0x12a3e4190>"
      ]
     },
     "execution_count": 57,
     "metadata": {},
     "output_type": "execute_result"
    }
   ],
   "source": [
    "#https://github.com/isellsoap/deutschlandGeoJSON/tree/master/2_bundeslaender\n",
    "state_geo = r'/Users/apw/germany_niedrig.geojson.txt'\n",
    "\n",
    "map = folium.Map(location=[51, 10.5], zoom_start=6)\n",
    "map.geo_json(geo_path=state_geo, )\n",
    "failed = []\n",
    "for i in range(len(dfs.lat.tolist())):\n",
    "    try:\n",
    "               \n",
    "        text = dfs.tweets.tolist()[i]['text']\n",
    "        \n",
    "        try: ## check if text is a proper string\n",
    "            str(text) \n",
    "            #popup = text + '\\n Location: ' + dfs.location.tolist()[i]\n",
    "            popup = dfs.location.tolist()[i]\n",
    "            map.simple_marker([dfs.lat.tolist()[i], dfs.lon.tolist()[i]], popup = popup, marker_color='blue')\n",
    "            \n",
    "        except:       \n",
    "            ptext = text.encode('ascii', errors = 'ignore') ## this is a problem with how I saved the tweets to file?\n",
    "            #popup =  '+'.join(ptext.split('\\r')) + '\\n Location: ' + dfs.location.tolist()[i]\n",
    "            popup = dfs.location.tolist()[i]\n",
    "            map.simple_marker([dfs.lat.tolist()[i], dfs.lon.tolist()[i]], popup = popup, marker_color='blue')\n",
    "\n",
    "    except:\n",
    "        ## cannot read tweet text, show the full tweet\n",
    "        popup = dfs.tweets.tolist()[i]\n",
    "        map.simple_marker([dfs.lat.tolist()[i], dfs.lon.tolist()[i]], popup = popup, marker_color='red')\n",
    "\n",
    "map.create_map(path='germany.html')\n",
    "\n",
    "from IPython.display import IFrame\n",
    "IFrame('germany.html', width=800, height=800)"
   ]
  },
  {
   "cell_type": "markdown",
   "metadata": {},
   "source": [
    "We conclude that many tweets located outside Germany are mislocated. In the following, let's focus on the tweets in Germany."
   ]
  },
  {
   "cell_type": "markdown",
   "metadata": {},
   "source": [
    "## Ready for some analytics\n",
    "\n",
    "Which federal country was most actively tweeting Tatort tweets, say in units of tweets per population? \n",
    "\n",
    "To answer this question, we'll get a list of polygons describing the boundaries of the coutries and count the number of tweets falling inside each polygon. We'll also scrape Wikipedia for the countries' population size. We'll then compute the result and visualize it on a Folium choropleth map."
   ]
  },
  {
   "cell_type": "markdown",
   "metadata": {},
   "source": [
    "First we'll get the boundaries of the federal countries. This can be done in many ways, here we'll use a geojson collection from https://github.com/isellsoap/deutschlandGeoJSON."
   ]
  },
  {
   "cell_type": "code",
   "execution_count": 58,
   "metadata": {
    "collapsed": false,
    "scrolled": false
   },
   "outputs": [
    {
     "name": "stdout",
     "output_type": "stream",
     "text": [
      "{u'geometry': {u'coordinates': [[[13.161809921264762, 52.59442138671869],\n",
      "                                 [13.216209411621207, 52.58251953125006],\n",
      "                                 [13.230238914489803, 52.62681198120117],\n",
      "                                 [13.272738456726188, 52.62248992919922],\n",
      "                                 [13.28633975982666, 52.655658721923885],\n",
      "                                 [13.370199203491268, 52.62105941772461],\n",
      "                                 [13.474988937378043, 52.649169921875],\n",
      "                                 [13.45722961425787, 52.66054916381836],\n",
      "                                 [13.482250213623047, 52.67502212524414],\n",
      "                                 [13.529389381408748, 52.640949249267635],\n",
      "                                 [13.514860153198356, 52.5892715454101],\n",
      "                                 [13.663810729980526, 52.5277099609375],\n",
      "                                 [13.618619918823356, 52.4690895080567],\n",
      "                                 [13.768408775329533, 52.437110900878906],\n",
      "                                 [13.660959243774414, 52.33872222900396],\n",
      "                                 [13.65060997009283, 52.37594223022461],\n",
      "                                 [13.48781967163086, 52.39324188232422],\n",
      "                                 [13.476848602295036, 52.419349670410156],\n",
      "                                 [13.427828788757438, 52.40896224975586],\n",
      "                                 [13.432428359985352, 52.375541687011776],\n",
      "                                 [13.252047538757324, 52.41891098022461],\n",
      "                                 [13.141288757324162, 52.38713073730469],\n",
      "                                 [13.093818664550781, 52.417438507080135],\n",
      "                                 [13.176479339599553, 52.505241394043026],\n",
      "                                 [13.122269630432129, 52.52083206176769],\n",
      "                                 [13.161809921264762, 52.59442138671869]]],\n",
      "               u'type': u'Polygon'},\n",
      " u'id': 2,\n",
      " u'properties': {u'ENGTYPE_1': u'State',\n",
      "                 u'ID_0': 86,\n",
      "                 u'ID_1': 3,\n",
      "                 u'ISO': u'DEU',\n",
      "                 u'NAME_0': u'Germany',\n",
      "                 u'NAME_1': u'Berlin',\n",
      "                 u'NL_NAME_1': None,\n",
      "                 u'TYPE_1': u'Land',\n",
      "                 u'VARNAME_1': None},\n",
      " u'type': u'Feature'}\n"
     ]
    }
   ],
   "source": [
    "##https://github.com/isellsoap/deutschlandGeoJSON\n",
    "url = \"https://raw.githubusercontent.com/isellsoap/deutschlandGeoJSON/master/2_bundeslaender/4_niedrig.geojson\"\n",
    "response = urllib.urlopen(url)\n",
    "boundaries = json.loads(response.read())\n",
    "\n",
    "## lets look at an example geojson polygon\n",
    "pprint (boundaries['features'][2])"
   ]
  },
  {
   "cell_type": "markdown",
   "metadata": {},
   "source": [
    "We can now assign each tweet a federal countrie by checking if it's location is inside the corresponding geojson polygon:"
   ]
  },
  {
   "cell_type": "code",
   "execution_count": 64,
   "metadata": {
    "collapsed": false,
    "scrolled": false
   },
   "outputs": [
    {
     "data": {
      "text/html": [
       "<div>\n",
       "<table border=\"1\" class=\"dataframe\">\n",
       "  <thead>\n",
       "    <tr style=\"text-align: right;\">\n",
       "      <th></th>\n",
       "      <th>tweets</th>\n",
       "      <th>location</th>\n",
       "      <th>fed</th>\n",
       "    </tr>\n",
       "  </thead>\n",
       "  <tbody>\n",
       "    <tr>\n",
       "      <th>24</th>\n",
       "      <td>{u'contributors': None, u'truncated': False, u...</td>\n",
       "      <td>Frankfurt am Main</td>\n",
       "      <td>Hessen</td>\n",
       "    </tr>\n",
       "    <tr>\n",
       "      <th>27</th>\n",
       "      <td>{u'contributors': None, u'truncated': False, u...</td>\n",
       "      <td>Frankfurt am Main</td>\n",
       "      <td>Hessen</td>\n",
       "    </tr>\n",
       "    <tr>\n",
       "      <th>65</th>\n",
       "      <td>{u'contributors': None, u'truncated': False, u...</td>\n",
       "      <td>Germany, Augsburg</td>\n",
       "      <td>Bayern</td>\n",
       "    </tr>\n",
       "    <tr>\n",
       "      <th>72</th>\n",
       "      <td>{u'contributors': None, u'truncated': False, u...</td>\n",
       "      <td>Mainz</td>\n",
       "      <td>Rheinland-Pfalz</td>\n",
       "    </tr>\n",
       "    <tr>\n",
       "      <th>89</th>\n",
       "      <td>{u'contributors': None, u'truncated': False, u...</td>\n",
       "      <td>Berlin / Germany</td>\n",
       "      <td>Berlin</td>\n",
       "    </tr>\n",
       "  </tbody>\n",
       "</table>\n",
       "</div>"
      ],
      "text/plain": [
       "                                               tweets           location  \\\n",
       "24  {u'contributors': None, u'truncated': False, u...  Frankfurt am Main   \n",
       "27  {u'contributors': None, u'truncated': False, u...  Frankfurt am Main   \n",
       "65  {u'contributors': None, u'truncated': False, u...  Germany, Augsburg   \n",
       "72  {u'contributors': None, u'truncated': False, u...              Mainz   \n",
       "89  {u'contributors': None, u'truncated': False, u...   Berlin / Germany   \n",
       "\n",
       "                fed  \n",
       "24           Hessen  \n",
       "27           Hessen  \n",
       "65           Bayern  \n",
       "72  Rheinland-Pfalz  \n",
       "89           Berlin  "
      ]
     },
     "execution_count": 64,
     "metadata": {},
     "output_type": "execute_result"
    }
   ],
   "source": [
    "##from http://geospatialpython.com/2011/01/point-in-polygon.html\n",
    "\n",
    "# Determine if a point is inside a given polygon or not\n",
    "# Polygon is a list of (x,y) pairs. This function\n",
    "# returns True or False.  The algorithm is called\n",
    "# the \"Ray Casting Method\".\n",
    "\n",
    "def point_in_poly(x,y,poly):\n",
    "\n",
    "    n = len(poly)\n",
    "    inside = False\n",
    "\n",
    "    p1x,p1y = poly[0]\n",
    "    for i in range(n+1):\n",
    "        p2x,p2y = poly[i % n]\n",
    "        if y > min(p1y,p2y):\n",
    "            if y <= max(p1y,p2y):\n",
    "                if x <= max(p1x,p2x):\n",
    "                    if p1y != p2y:\n",
    "                        xints = (y-p1y)*(p2x-p1x)/(p2y-p1y)+p1x\n",
    "                    if p1x == p2x or x <= xints:\n",
    "                        inside = not inside\n",
    "        p1x,p1y = p2x,p2y\n",
    "\n",
    "    return inside\n",
    "\n",
    "\n",
    "def func(row):\n",
    "    \n",
    "    for f in boundaries['features']:       \n",
    "        \n",
    "        if f['geometry']['type'].lower() == 'polygon':\n",
    "            polygon = f['geometry']['coordinates'][0]\n",
    "            \n",
    "    \n",
    "            try:\n",
    "                if point_in_poly(float(row.lon), float(row.lat), polygon):\n",
    "                    return f['properties']['NAME_1']\n",
    "            except:\n",
    "            \n",
    "                #print type(polygon)\n",
    "                return 'Error' \n",
    "                 \n",
    "\n",
    "        if f['geometry']['type'].lower() == 'multipolygon':\n",
    "            polygons = f['geometry']['coordinates'][0]\n",
    "            for polygon in polygons:\n",
    "                try:\n",
    "                    if point_in_poly(float(row.lon), float(row.lat), polygon):\n",
    "                        return f['properties']['NAME_1']\n",
    "                except:\n",
    "            \n",
    "                    #print 'error multip'\n",
    "                    return 'Error multip'\n",
    "                \n",
    "    #print 'unknown'\n",
    "    return 'Unknown'\n",
    "\n",
    "dfs['fed'] = dfs.apply(func, axis = 1)\n",
    "dfs[['tweets', 'location', 'fed']].head()"
   ]
  },
  {
   "cell_type": "markdown",
   "metadata": {},
   "source": [
    "Lets get a count of tweets in the federal countries:"
   ]
  },
  {
   "cell_type": "code",
   "execution_count": 65,
   "metadata": {
    "collapsed": false
   },
   "outputs": [
    {
     "data": {
      "text/html": [
       "<div>\n",
       "<table border=\"1\" class=\"dataframe\">\n",
       "  <thead>\n",
       "    <tr style=\"text-align: right;\">\n",
       "      <th></th>\n",
       "      <th>fed</th>\n",
       "      <th>count</th>\n",
       "    </tr>\n",
       "  </thead>\n",
       "  <tbody>\n",
       "    <tr>\n",
       "      <th>15</th>\n",
       "      <td>Unknown</td>\n",
       "      <td>166</td>\n",
       "    </tr>\n",
       "    <tr>\n",
       "      <th>0</th>\n",
       "      <td>Baden-Württemberg</td>\n",
       "      <td>131</td>\n",
       "    </tr>\n",
       "    <tr>\n",
       "      <th>8</th>\n",
       "      <td>Nordrhein-Westfalen</td>\n",
       "      <td>125</td>\n",
       "    </tr>\n",
       "    <tr>\n",
       "      <th>2</th>\n",
       "      <td>Berlin</td>\n",
       "      <td>106</td>\n",
       "    </tr>\n",
       "    <tr>\n",
       "      <th>1</th>\n",
       "      <td>Bayern</td>\n",
       "      <td>69</td>\n",
       "    </tr>\n",
       "    <tr>\n",
       "      <th>14</th>\n",
       "      <td>Thüringen</td>\n",
       "      <td>64</td>\n",
       "    </tr>\n",
       "    <tr>\n",
       "      <th>6</th>\n",
       "      <td>Hessen</td>\n",
       "      <td>50</td>\n",
       "    </tr>\n",
       "    <tr>\n",
       "      <th>7</th>\n",
       "      <td>Niedersachsen</td>\n",
       "      <td>46</td>\n",
       "    </tr>\n",
       "    <tr>\n",
       "      <th>5</th>\n",
       "      <td>Hamburg</td>\n",
       "      <td>44</td>\n",
       "    </tr>\n",
       "    <tr>\n",
       "      <th>11</th>\n",
       "      <td>Sachsen</td>\n",
       "      <td>25</td>\n",
       "    </tr>\n",
       "    <tr>\n",
       "      <th>9</th>\n",
       "      <td>Rheinland-Pfalz</td>\n",
       "      <td>12</td>\n",
       "    </tr>\n",
       "    <tr>\n",
       "      <th>4</th>\n",
       "      <td>Bremen</td>\n",
       "      <td>9</td>\n",
       "    </tr>\n",
       "    <tr>\n",
       "      <th>3</th>\n",
       "      <td>Brandenburg</td>\n",
       "      <td>7</td>\n",
       "    </tr>\n",
       "    <tr>\n",
       "      <th>12</th>\n",
       "      <td>Sachsen-Anhalt</td>\n",
       "      <td>4</td>\n",
       "    </tr>\n",
       "    <tr>\n",
       "      <th>13</th>\n",
       "      <td>Schleswig-Holstein</td>\n",
       "      <td>2</td>\n",
       "    </tr>\n",
       "    <tr>\n",
       "      <th>10</th>\n",
       "      <td>Saarland</td>\n",
       "      <td>1</td>\n",
       "    </tr>\n",
       "  </tbody>\n",
       "</table>\n",
       "</div>"
      ],
      "text/plain": [
       "                    fed  count\n",
       "15              Unknown    166\n",
       "0     Baden-Württemberg    131\n",
       "8   Nordrhein-Westfalen    125\n",
       "2                Berlin    106\n",
       "1                Bayern     69\n",
       "14            Thüringen     64\n",
       "6                Hessen     50\n",
       "7         Niedersachsen     46\n",
       "5               Hamburg     44\n",
       "11              Sachsen     25\n",
       "9       Rheinland-Pfalz     12\n",
       "4                Bremen      9\n",
       "3           Brandenburg      7\n",
       "12       Sachsen-Anhalt      4\n",
       "13   Schleswig-Holstein      2\n",
       "10             Saarland      1"
      ]
     },
     "execution_count": 65,
     "metadata": {},
     "output_type": "execute_result"
    }
   ],
   "source": [
    "fed_counts = pd.DataFrame({'count' : dfs.groupby( [ \"fed\"] ).size()}).reset_index()\n",
    "fed_counts.sort_values('count', ascending = False)"
   ]
  },
  {
   "cell_type": "markdown",
   "metadata": {},
   "source": [
    "Let's now compare the number of tweets in each federal country with the number of people living in it. We'll get the number of people per country from Wikipedia. We'll use the webscraping tool BeautifulSoup, following the tutorial at https://adesquared.wordpress.com/2013/06/16/using-python-beautifulsoup-to-scrape-a-wikipedia-table/."
   ]
  },
  {
   "cell_type": "code",
   "execution_count": 66,
   "metadata": {
    "collapsed": false
   },
   "outputs": [
    {
     "data": {
      "text/html": [
       "<div>\n",
       "<table border=\"1\" class=\"dataframe\">\n",
       "  <thead>\n",
       "    <tr style=\"text-align: right;\">\n",
       "      <th></th>\n",
       "      <th>fed</th>\n",
       "      <th>population</th>\n",
       "    </tr>\n",
       "  </thead>\n",
       "  <tbody>\n",
       "    <tr>\n",
       "      <th>0</th>\n",
       "      <td>Baden-Württemberg</td>\n",
       "      <td>10.631</td>\n",
       "    </tr>\n",
       "    <tr>\n",
       "      <th>1</th>\n",
       "      <td>Bayern</td>\n",
       "      <td>12.604</td>\n",
       "    </tr>\n",
       "    <tr>\n",
       "      <th>2</th>\n",
       "      <td>Berlin</td>\n",
       "      <td>3.422</td>\n",
       "    </tr>\n",
       "    <tr>\n",
       "      <th>3</th>\n",
       "      <td>Brandenburg</td>\n",
       "      <td>2.449</td>\n",
       "    </tr>\n",
       "    <tr>\n",
       "      <th>4</th>\n",
       "      <td>Bremen</td>\n",
       "      <td>0.657</td>\n",
       "    </tr>\n",
       "    <tr>\n",
       "      <th>5</th>\n",
       "      <td>Hamburg</td>\n",
       "      <td>1.746</td>\n",
       "    </tr>\n",
       "    <tr>\n",
       "      <th>6</th>\n",
       "      <td>Hessen</td>\n",
       "      <td>6.045</td>\n",
       "    </tr>\n",
       "    <tr>\n",
       "      <th>7</th>\n",
       "      <td>Mecklenburg-Vorpommern</td>\n",
       "      <td>1.597</td>\n",
       "    </tr>\n",
       "    <tr>\n",
       "      <th>8</th>\n",
       "      <td>Niedersachsen</td>\n",
       "      <td>7.791</td>\n",
       "    </tr>\n",
       "    <tr>\n",
       "      <th>9</th>\n",
       "      <td>Nordrhein-Westfalen</td>\n",
       "      <td>17.572</td>\n",
       "    </tr>\n",
       "    <tr>\n",
       "      <th>10</th>\n",
       "      <td>Rheinland-Pfalz</td>\n",
       "      <td>3.994</td>\n",
       "    </tr>\n",
       "    <tr>\n",
       "      <th>11</th>\n",
       "      <td>Saarland</td>\n",
       "      <td>0.991</td>\n",
       "    </tr>\n",
       "    <tr>\n",
       "      <th>12</th>\n",
       "      <td>Sachsen</td>\n",
       "      <td>4.046</td>\n",
       "    </tr>\n",
       "    <tr>\n",
       "      <th>13</th>\n",
       "      <td>Sachsen-Anhalt</td>\n",
       "      <td>2.245</td>\n",
       "    </tr>\n",
       "    <tr>\n",
       "      <th>14</th>\n",
       "      <td>Schleswig-Holstein</td>\n",
       "      <td>2.816</td>\n",
       "    </tr>\n",
       "    <tr>\n",
       "      <th>15</th>\n",
       "      <td>Thüringen</td>\n",
       "      <td>2.161</td>\n",
       "    </tr>\n",
       "    <tr>\n",
       "      <th>16</th>\n",
       "      <td>Bundesrepublik Deutschland</td>\n",
       "      <td>80.767</td>\n",
       "    </tr>\n",
       "  </tbody>\n",
       "</table>\n",
       "</div>"
      ],
      "text/plain": [
       "                           fed  population\n",
       "0            Baden-Württemberg      10.631\n",
       "1                       Bayern      12.604\n",
       "2                       Berlin       3.422\n",
       "3                  Brandenburg       2.449\n",
       "4                       Bremen       0.657\n",
       "5                      Hamburg       1.746\n",
       "6                       Hessen       6.045\n",
       "7       Mecklenburg-Vorpommern       1.597\n",
       "8                Niedersachsen       7.791\n",
       "9          Nordrhein-Westfalen      17.572\n",
       "10             Rheinland-Pfalz       3.994\n",
       "11                    Saarland       0.991\n",
       "12                     Sachsen       4.046\n",
       "13              Sachsen-Anhalt       2.245\n",
       "14          Schleswig-Holstein       2.816\n",
       "15                   Thüringen       2.161\n",
       "16  Bundesrepublik Deutschland      80.767"
      ]
     },
     "execution_count": 66,
     "metadata": {},
     "output_type": "execute_result"
    }
   ],
   "source": [
    "##scrape a table from wikipidea\n",
    "##see https://adesquared.wordpress.com/2013/06/16/using-python-beautifulsoup-to-scrape-a-wikipedia-table/\n",
    "\n",
    "from bs4 import BeautifulSoup\n",
    "import urllib2\n",
    "\n",
    "wiki = 'https://de.wikipedia.org/wiki/Land_(Deutschland)'\n",
    "header = {'User-Agent': 'Mozilla/5.0'} #Needed to prevent 403 error on Wikipedia\n",
    "req = urllib2.Request(wiki,headers=header)\n",
    "page = urllib2.urlopen(req)\n",
    "soup = BeautifulSoup(page)\n",
    " \n",
    "area = \"\"\n",
    "district = \"\"\n",
    "town = \"\"\n",
    "county = \"\"\n",
    "table = soup.find(\"table\", { \"class\" : \"wikitable sortable zebra\" })\n",
    " \n",
    "names = []\n",
    "populations = []\n",
    "for row in table.findAll(\"tr\"):\n",
    "    cells = row.findAll(\"td\")\n",
    "\n",
    "    if len(cells) == 13:\n",
    "        \n",
    "        nr = cells[0].find(text=True)\n",
    "        name = cells[1].findAll(text=True)\n",
    "        population = cells[9].find(text=True)\n",
    "        \n",
    "        names.append(name[0])\n",
    "        populations.append(float(population.replace('.','').replace(',','.')))\n",
    "\n",
    "\n",
    "dfs_area = pd.DataFrame({'fed': names, 'population': populations}) \n",
    "dfs_area"
   ]
  },
  {
   "cell_type": "markdown",
   "metadata": {},
   "source": [
    "We can merge the above table with the number of counts per country computed earlier to derive at the desired result:"
   ]
  },
  {
   "cell_type": "code",
   "execution_count": 67,
   "metadata": {
    "collapsed": false
   },
   "outputs": [
    {
     "data": {
      "text/html": [
       "<div>\n",
       "<table border=\"1\" class=\"dataframe\">\n",
       "  <thead>\n",
       "    <tr style=\"text-align: right;\">\n",
       "      <th></th>\n",
       "      <th>fed</th>\n",
       "      <th>count</th>\n",
       "      <th>population</th>\n",
       "      <th>tweetsPerHead</th>\n",
       "    </tr>\n",
       "  </thead>\n",
       "  <tbody>\n",
       "    <tr>\n",
       "      <th>0</th>\n",
       "      <td>Baden-Württemberg</td>\n",
       "      <td>131</td>\n",
       "      <td>10.631</td>\n",
       "      <td>12.322453</td>\n",
       "    </tr>\n",
       "    <tr>\n",
       "      <th>1</th>\n",
       "      <td>Bayern</td>\n",
       "      <td>69</td>\n",
       "      <td>12.604</td>\n",
       "      <td>5.474453</td>\n",
       "    </tr>\n",
       "    <tr>\n",
       "      <th>2</th>\n",
       "      <td>Berlin</td>\n",
       "      <td>106</td>\n",
       "      <td>3.422</td>\n",
       "      <td>30.976037</td>\n",
       "    </tr>\n",
       "    <tr>\n",
       "      <th>3</th>\n",
       "      <td>Brandenburg</td>\n",
       "      <td>7</td>\n",
       "      <td>2.449</td>\n",
       "      <td>2.858310</td>\n",
       "    </tr>\n",
       "    <tr>\n",
       "      <th>4</th>\n",
       "      <td>Bremen</td>\n",
       "      <td>9</td>\n",
       "      <td>0.657</td>\n",
       "      <td>13.698630</td>\n",
       "    </tr>\n",
       "    <tr>\n",
       "      <th>5</th>\n",
       "      <td>Hamburg</td>\n",
       "      <td>44</td>\n",
       "      <td>1.746</td>\n",
       "      <td>25.200458</td>\n",
       "    </tr>\n",
       "    <tr>\n",
       "      <th>6</th>\n",
       "      <td>Hessen</td>\n",
       "      <td>50</td>\n",
       "      <td>6.045</td>\n",
       "      <td>8.271299</td>\n",
       "    </tr>\n",
       "    <tr>\n",
       "      <th>7</th>\n",
       "      <td>Niedersachsen</td>\n",
       "      <td>46</td>\n",
       "      <td>7.791</td>\n",
       "      <td>5.904248</td>\n",
       "    </tr>\n",
       "    <tr>\n",
       "      <th>8</th>\n",
       "      <td>Nordrhein-Westfalen</td>\n",
       "      <td>125</td>\n",
       "      <td>17.572</td>\n",
       "      <td>7.113590</td>\n",
       "    </tr>\n",
       "    <tr>\n",
       "      <th>9</th>\n",
       "      <td>Rheinland-Pfalz</td>\n",
       "      <td>12</td>\n",
       "      <td>3.994</td>\n",
       "      <td>3.004507</td>\n",
       "    </tr>\n",
       "    <tr>\n",
       "      <th>10</th>\n",
       "      <td>Saarland</td>\n",
       "      <td>1</td>\n",
       "      <td>0.991</td>\n",
       "      <td>1.009082</td>\n",
       "    </tr>\n",
       "    <tr>\n",
       "      <th>11</th>\n",
       "      <td>Sachsen</td>\n",
       "      <td>25</td>\n",
       "      <td>4.046</td>\n",
       "      <td>6.178942</td>\n",
       "    </tr>\n",
       "    <tr>\n",
       "      <th>12</th>\n",
       "      <td>Sachsen-Anhalt</td>\n",
       "      <td>4</td>\n",
       "      <td>2.245</td>\n",
       "      <td>1.781737</td>\n",
       "    </tr>\n",
       "    <tr>\n",
       "      <th>13</th>\n",
       "      <td>Schleswig-Holstein</td>\n",
       "      <td>2</td>\n",
       "      <td>2.816</td>\n",
       "      <td>0.710227</td>\n",
       "    </tr>\n",
       "    <tr>\n",
       "      <th>14</th>\n",
       "      <td>Thüringen</td>\n",
       "      <td>64</td>\n",
       "      <td>2.161</td>\n",
       "      <td>29.615919</td>\n",
       "    </tr>\n",
       "    <tr>\n",
       "      <th>15</th>\n",
       "      <td>Mecklenburg-Vorpommern</td>\n",
       "      <td>0</td>\n",
       "      <td>1.597</td>\n",
       "      <td>0.000000</td>\n",
       "    </tr>\n",
       "    <tr>\n",
       "      <th>16</th>\n",
       "      <td>Bundesrepublik Deutschland</td>\n",
       "      <td>0</td>\n",
       "      <td>80.767</td>\n",
       "      <td>0.000000</td>\n",
       "    </tr>\n",
       "  </tbody>\n",
       "</table>\n",
       "</div>"
      ],
      "text/plain": [
       "                           fed  count  population  tweetsPerHead\n",
       "0            Baden-Württemberg    131      10.631      12.322453\n",
       "1                       Bayern     69      12.604       5.474453\n",
       "2                       Berlin    106       3.422      30.976037\n",
       "3                  Brandenburg      7       2.449       2.858310\n",
       "4                       Bremen      9       0.657      13.698630\n",
       "5                      Hamburg     44       1.746      25.200458\n",
       "6                       Hessen     50       6.045       8.271299\n",
       "7                Niedersachsen     46       7.791       5.904248\n",
       "8          Nordrhein-Westfalen    125      17.572       7.113590\n",
       "9              Rheinland-Pfalz     12       3.994       3.004507\n",
       "10                    Saarland      1       0.991       1.009082\n",
       "11                     Sachsen     25       4.046       6.178942\n",
       "12              Sachsen-Anhalt      4       2.245       1.781737\n",
       "13          Schleswig-Holstein      2       2.816       0.710227\n",
       "14                   Thüringen     64       2.161      29.615919\n",
       "15      Mecklenburg-Vorpommern      0       1.597       0.000000\n",
       "16  Bundesrepublik Deutschland      0      80.767       0.000000"
      ]
     },
     "execution_count": 67,
     "metadata": {},
     "output_type": "execute_result"
    }
   ],
   "source": [
    "## merge on right is important to accomodate countries with zero count\n",
    "fed_counts = pd.merge(fed_counts, dfs_area, on='fed', how = 'right') \n",
    "fed_counts.fillna(0, inplace = True)\n",
    "## actually, it's tweets per million heads\n",
    "fed_counts['tweetsPerHead'] = fed_counts.apply(lambda row: row['count'] / row['population'], axis = 1)\n",
    "fed_counts"
   ]
  },
  {
   "cell_type": "markdown",
   "metadata": {},
   "source": [
    "And here are some Folium choropleth visualization that help us interpret the results. First, we'll show the number of counts per federal country."
   ]
  },
  {
   "cell_type": "code",
   "execution_count": 70,
   "metadata": {
    "collapsed": false
   },
   "outputs": [
    {
     "name": "stderr",
     "output_type": "stream",
     "text": [
      "/Library/Python/2.7/site-packages/ipykernel/__main__.py:7: FutureWarning: 'threshold_scale' default behavior has changed. Now you get a linear scale between the 'min' and the 'max' of your data. To get former behavior, use folium.utilities.split_six.\n",
      "/Library/Python/2.7/site-packages/ipykernel/__main__.py:9: FutureWarning: Map.create_map is deprecated. Use Map.save instead\n"
     ]
    },
    {
     "data": {
      "text/html": [
       "\n",
       "        <iframe\n",
       "            width=\"700\"\n",
       "            height=\"700\"\n",
       "            src=\"number.html\"\n",
       "            frameborder=\"0\"\n",
       "            allowfullscreen\n",
       "        ></iframe>\n",
       "        "
      ],
      "text/plain": [
       "<IPython.lib.display.IFrame at 0x12b146c90>"
      ]
     },
     "execution_count": 70,
     "metadata": {},
     "output_type": "execute_result"
    }
   ],
   "source": [
    "map = folium.Map(location=[48.139, 11.566], zoom_start=5)\n",
    "\n",
    "map.choropleth(geo_path=state_geo, data=fed_counts,\n",
    "             columns=['fed', 'count'],\n",
    "             key_on='feature.properties.NAME_1',\n",
    "             fill_color='YlOrRd', fill_opacity=0.7, line_opacity=0.2,\n",
    "             legend_name='Number of tweets')\n",
    "\n",
    "map.create_map(path='number.html')\n",
    "\n",
    "from IPython.display import IFrame\n",
    "IFrame('number.html', width=700, height=700)\n",
    "\n"
   ]
  },
  {
   "cell_type": "markdown",
   "metadata": {},
   "source": [
    "We see that Nordrhein-Westfahlen und Bayern are among the countries with the most tweets. But those are also among the counries with the largests population, so this might not be so surprising. \n",
    "\n",
    "Let's normalize the tweet counts by dividing by the population number. The following choropleth map shows the tweets per head:"
   ]
  },
  {
   "cell_type": "code",
   "execution_count": 72,
   "metadata": {
    "collapsed": false
   },
   "outputs": [
    {
     "name": "stderr",
     "output_type": "stream",
     "text": [
      "/Library/Python/2.7/site-packages/ipykernel/__main__.py:7: FutureWarning: 'threshold_scale' default behavior has changed. Now you get a linear scale between the 'min' and the 'max' of your data. To get former behavior, use folium.utilities.split_six.\n",
      "/Library/Python/2.7/site-packages/ipykernel/__main__.py:9: FutureWarning: Map.create_map is deprecated. Use Map.save instead\n"
     ]
    },
    {
     "data": {
      "text/html": [
       "\n",
       "        <iframe\n",
       "            width=\"700\"\n",
       "            height=\"700\"\n",
       "            src=\"tweets_per_head.html\"\n",
       "            frameborder=\"0\"\n",
       "            allowfullscreen\n",
       "        ></iframe>\n",
       "        "
      ],
      "text/plain": [
       "<IPython.lib.display.IFrame at 0x128b9e450>"
      ]
     },
     "execution_count": 72,
     "metadata": {},
     "output_type": "execute_result"
    }
   ],
   "source": [
    "map = folium.Map(location=[48.139, 11.566], zoom_start=5)\n",
    "\n",
    "map.choropleth(geo_path=state_geo, data=fed_counts,\n",
    "             columns=['fed', 'tweetsPerHead'],\n",
    "             key_on='feature.properties.NAME_1',\n",
    "             fill_color='YlOrRd', fill_opacity=0.7, line_opacity=0.2,\n",
    "             legend_name='Tweets Per Head')\n",
    "\n",
    "map.create_map(path='tweets_per_head.html')\n",
    "\n",
    "from IPython.display import IFrame\n",
    "IFrame('tweets_per_head.html', width=700, height=700)\n",
    "\n"
   ]
  },
  {
   "cell_type": "markdown",
   "metadata": {},
   "source": [
    "That's funny. Thüringen turns out to have the most active Tatort tweets. Or does it?\n",
    "\n",
    "We'll understand this result better by noting that many tweets have location Germany. The Google API returns longitude and lattitude information that locates Germany in Thüringen. Let's verify this:"
   ]
  },
  {
   "cell_type": "code",
   "execution_count": 73,
   "metadata": {
    "collapsed": false
   },
   "outputs": [
    {
     "name": "stderr",
     "output_type": "stream",
     "text": [
      "/Library/Python/2.7/site-packages/ipykernel/__main__.py:7: FutureWarning: 'threshold_scale' default behavior has changed. Now you get a linear scale between the 'min' and the 'max' of your data. To get former behavior, use folium.utilities.split_six.\n",
      "/Library/Python/2.7/site-packages/ipykernel/__main__.py:10: FutureWarning: simple_marker is deprecated. Use add_children(Marker) instead\n",
      "/Library/Python/2.7/site-packages/ipykernel/__main__.py:12: FutureWarning: Map.create_map is deprecated. Use Map.save instead\n"
     ]
    },
    {
     "data": {
      "text/html": [
       "\n",
       "        <iframe\n",
       "            width=\"700\"\n",
       "            height=\"700\"\n",
       "            src=\"tweets_per_head.html\"\n",
       "            frameborder=\"0\"\n",
       "            allowfullscreen\n",
       "        ></iframe>\n",
       "        "
      ],
      "text/plain": [
       "<IPython.lib.display.IFrame at 0x12b734f50>"
      ]
     },
     "execution_count": 73,
     "metadata": {},
     "output_type": "execute_result"
    }
   ],
   "source": [
    "map = folium.Map(location=[48.139, 11.566], zoom_start=5)\n",
    "\n",
    "map.choropleth(geo_path=state_geo, data=fed_counts,\n",
    "             columns=['fed', 'tweetsPerHead'],\n",
    "             key_on='feature.properties.NAME_1',\n",
    "             fill_color='YlOrRd', fill_opacity=0.7, line_opacity=0.2,\n",
    "             legend_name='Tweets Per Head')\n",
    "\n",
    "##Geocoder.geocode('Deutschland').coordinates\n",
    "map.simple_marker([51.165691,10.451526], marker_color='red')\n",
    "\n",
    "map.create_map(path='tweets_per_head.html')\n",
    "\n",
    "from IPython.display import IFrame\n",
    "IFrame('tweets_per_head.html', width=700, height=700)\n"
   ]
  },
  {
   "cell_type": "code",
   "execution_count": null,
   "metadata": {
    "collapsed": true
   },
   "outputs": [],
   "source": []
  },
  {
   "cell_type": "code",
   "execution_count": null,
   "metadata": {
    "collapsed": true
   },
   "outputs": [],
   "source": []
  }
 ],
 "metadata": {
  "kernelspec": {
   "display_name": "Python 2",
   "language": "python",
   "name": "python2"
  },
  "language_info": {
   "codemirror_mode": {
    "name": "ipython",
    "version": 2
   },
   "file_extension": ".py",
   "mimetype": "text/x-python",
   "name": "python",
   "nbconvert_exporter": "python",
   "pygments_lexer": "ipython2",
   "version": "2.7.11"
  }
 },
 "nbformat": 4,
 "nbformat_minor": 0
}
